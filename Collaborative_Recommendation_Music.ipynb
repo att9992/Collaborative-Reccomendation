{
  "nbformat": 4,
  "nbformat_minor": 0,
  "metadata": {
    "colab": {
      "name": "Collaborative Recommendation Music",
      "provenance": [],
      "collapsed_sections": [],
      "toc_visible": true
    },
    "kernelspec": {
      "name": "python3",
      "display_name": "Python 3"
    },
    "accelerator": "GPU"
  },
  "cells": [
    {
      "cell_type": "code",
      "metadata": {
        "id": "L4iMBnFudaSK",
        "colab_type": "code",
        "colab": {
          "base_uri": "https://localhost:8080/",
          "height": 271
        },
        "outputId": "4322b005-d9a9-4d22-bd09-a78513ce9cae"
      },
      "source": [
        "pip install pyspark"
      ],
      "execution_count": 1,
      "outputs": [
        {
          "output_type": "stream",
          "text": [
            "Collecting pyspark\n",
            "\u001b[?25l  Downloading https://files.pythonhosted.org/packages/8e/b0/bf9020b56492281b9c9d8aae8f44ff51e1bc91b3ef5a884385cb4e389a40/pyspark-3.0.0.tar.gz (204.7MB)\n",
            "\u001b[K     |████████████████████████████████| 204.7MB 76kB/s \n",
            "\u001b[?25hCollecting py4j==0.10.9\n",
            "\u001b[?25l  Downloading https://files.pythonhosted.org/packages/9e/b6/6a4fb90cd235dc8e265a6a2067f2a2c99f0d91787f06aca4bcf7c23f3f80/py4j-0.10.9-py2.py3-none-any.whl (198kB)\n",
            "\u001b[K     |████████████████████████████████| 204kB 37.5MB/s \n",
            "\u001b[?25hBuilding wheels for collected packages: pyspark\n",
            "  Building wheel for pyspark (setup.py) ... \u001b[?25l\u001b[?25hdone\n",
            "  Created wheel for pyspark: filename=pyspark-3.0.0-py2.py3-none-any.whl size=205044182 sha256=2e34ebe9344f3dddd066f7db772ae752ffad89ba064fd46bae8396216a5d0865\n",
            "  Stored in directory: /root/.cache/pip/wheels/57/27/4d/ddacf7143f8d5b76c45c61ee2e43d9f8492fc5a8e78ebd7d37\n",
            "Successfully built pyspark\n",
            "Installing collected packages: py4j, pyspark\n",
            "Successfully installed py4j-0.10.9 pyspark-3.0.0\n"
          ],
          "name": "stdout"
        }
      ]
    },
    {
      "cell_type": "code",
      "metadata": {
        "id": "itfFXxF7gWd8",
        "colab_type": "code",
        "colab": {}
      },
      "source": [
        "from pyspark import SparkConf\n",
        "from pyspark.context import SparkContext\n",
        "from pyspark.sql import SparkSession as spark"
      ],
      "execution_count": 2,
      "outputs": []
    },
    {
      "cell_type": "code",
      "metadata": {
        "id": "U-QLerMqgZjm",
        "colab_type": "code",
        "colab": {}
      },
      "source": [
        "sc = SparkContext.getOrCreate(SparkConf().setMaster(\"local[*]\"))"
      ],
      "execution_count": 3,
      "outputs": []
    },
    {
      "cell_type": "code",
      "metadata": {
        "id": "4mv4LsogXScD",
        "colab_type": "code",
        "colab": {}
      },
      "source": [
        "from operator import *\n",
        "import os\n",
        "import sys\n",
        "import re\n",
        "import random\n",
        "from pyspark.mllib.recommendation import *\n",
        "from pyspark import SparkContext\n",
        "from pyspark.sql import SQLContext\n",
        "from pyspark.sql.types import *\n",
        "from pyspark.sql import Row\n",
        "from pyspark.sql.functions import *\n",
        "\n",
        "import pandas as pd\n",
        "import numpy as np\n",
        "from time import time\n",
        "\n",
        "sqlContext = SQLContext(sc)"
      ],
      "execution_count": 33,
      "outputs": []
    },
    {
      "cell_type": "code",
      "metadata": {
        "id": "Zwy5Vx2g84XF",
        "colab_type": "code",
        "colab": {
          "base_uri": "https://localhost:8080/",
          "height": 485
        },
        "outputId": "bb847efa-d547-47e7-a2cc-0890eb15e173"
      },
      "source": [
        "# Load user_artist_data\n",
        "userArtistDataSchema = StructType([ \\\n",
        "    StructField(\"userId\", LongType(), True), \\\n",
        "    StructField(\"artistId\", LongType(), True), \\\n",
        "    StructField(\"playCount\", IntegerType(), True)])\n",
        "\n",
        "userArtistDf = sqlContext.read \\\n",
        "    .format('com.databricks.spark.csv') \\\n",
        "    .options(header='false', delimiter=' ') \\\n",
        "    .load(\"user_artist_data.txt\", schema = userArtistDataSchema) \\\n",
        "    .cache()\n",
        "\n",
        "userArtistDf.show()"
      ],
      "execution_count": 5,
      "outputs": [
        {
          "output_type": "stream",
          "text": [
            "+-------+--------+---------+\n",
            "| userId|artistId|playCount|\n",
            "+-------+--------+---------+\n",
            "|1000002|       1|       55|\n",
            "|1000002| 1000006|       33|\n",
            "|1000002| 1000007|        8|\n",
            "|1000002| 1000009|      144|\n",
            "|1000002| 1000010|      314|\n",
            "|1000002| 1000013|        8|\n",
            "|1000002| 1000014|       42|\n",
            "|1000002| 1000017|       69|\n",
            "|1000002| 1000024|      329|\n",
            "|1000002| 1000025|        1|\n",
            "|1000002| 1000028|       17|\n",
            "|1000002| 1000031|       47|\n",
            "|1000002| 1000033|       15|\n",
            "|1000002| 1000042|        1|\n",
            "|1000002| 1000045|        1|\n",
            "|1000002| 1000054|        2|\n",
            "|1000002| 1000055|       25|\n",
            "|1000002| 1000056|        4|\n",
            "|1000002| 1000059|        2|\n",
            "|1000002| 1000062|       71|\n",
            "+-------+--------+---------+\n",
            "only showing top 20 rows\n",
            "\n"
          ],
          "name": "stdout"
        }
      ]
    },
    {
      "cell_type": "code",
      "metadata": {
        "id": "AooqynH7BLzj",
        "colab_type": "code",
        "colab": {
          "base_uri": "https://localhost:8080/",
          "height": 35
        },
        "outputId": "929c0afb-4a8e-42ca-845a-47ad95edb790"
      },
      "source": [
        "# Number of unique users\n",
        "uniqueUsers = userArtistDf.select(\"userId\").distinct().count()\n",
        "print(\"Total number of users: \", uniqueUsers)"
      ],
      "execution_count": 6,
      "outputs": [
        {
          "output_type": "stream",
          "text": [
            "Total number of users:  2553\n"
          ],
          "name": "stdout"
        }
      ]
    },
    {
      "cell_type": "code",
      "metadata": {
        "id": "FT4bXoR8CniV",
        "colab_type": "code",
        "colab": {
          "base_uri": "https://localhost:8080/",
          "height": 35
        },
        "outputId": "93441733-43dd-40dc-a243-feb0f221851f"
      },
      "source": [
        "# Number of unique artists\n",
        "uniqueArtists = userArtistDf.select(\"artistId\").distinct().count()\n",
        "print(\"Total number of artists: \", uniqueArtists)"
      ],
      "execution_count": 7,
      "outputs": [
        {
          "output_type": "stream",
          "text": [
            "Total number of artists:  131887\n"
          ],
          "name": "stdout"
        }
      ]
    },
    {
      "cell_type": "code",
      "metadata": {
        "id": "h750gbXecyVf",
        "colab_type": "code",
        "colab": {
          "base_uri": "https://localhost:8080/",
          "height": 91
        },
        "outputId": "db74a656-6177-4b55-97a0-41e81351c103"
      },
      "source": [
        "# Compute users' activity\n",
        "userActivity = userArtistDf.groupBy(\"userId\").sum(\"playCount\").collect()\n",
        "print('\\n', '5 samples of the result: ','\\n',userActivity[0:5])"
      ],
      "execution_count": 8,
      "outputs": [
        {
          "output_type": "stream",
          "text": [
            "\n",
            " 5 samples of the result:  \n",
            " [Row(userId=1000061, sum(playCount)=244), Row(userId=1000070, sum(playCount)=20200), Row(userId=1000313, sum(playCount)=201), Row(userId=1000832, sum(playCount)=1064), Row(userId=1000905, sum(playCount)=214)]\n"
          ],
          "name": "stdout"
        }
      ]
    },
    {
      "cell_type": "code",
      "metadata": {
        "id": "I0wcOwuXcydO",
        "colab_type": "code",
        "colab": {
          "base_uri": "https://localhost:8080/",
          "height": 323
        },
        "outputId": "28032499-8e04-4090-8d7f-f697ebd7fa25"
      },
      "source": [
        "# Load artist_data\n",
        "customSchemaArtist = StructType([ \\\n",
        "    StructField(\"artistID\", LongType(), True), \\\n",
        "    StructField(\"name\", StringType(), True)])\n",
        "\n",
        "artistDf = sqlContext.read \\\n",
        "    .format('com.databricks.spark.csv') \\\n",
        "    .options(header='false', delimiter='\\t', mode='DROPMALFORMED')\\\n",
        "    .load(\"artist_data.txt\", schema = customSchemaArtist ) \\\n",
        "    .cache()     \n",
        "\n",
        "print('10 samples of artists')   \n",
        "artistDf.show(10)"
      ],
      "execution_count": 9,
      "outputs": [
        {
          "output_type": "stream",
          "text": [
            "10 samples of artists\n",
            "+--------+--------------------+\n",
            "|artistID|                name|\n",
            "+--------+--------------------+\n",
            "| 1134999|        06Crazy Life|\n",
            "| 6821360|        Pang Nakarin|\n",
            "|10113088|Terfel, Bartoli- ...|\n",
            "|10151459| The Flaming Sidebur|\n",
            "| 6826647|   Bodenstandig 3000|\n",
            "|10186265|Jota Quest e Ivet...|\n",
            "| 6828986|       Toto_XX (1977|\n",
            "|10236364|         U.S Bombs -|\n",
            "| 1135000|artist formaly kn...|\n",
            "|10299728|Kassierer - Musik...|\n",
            "+--------+--------------------+\n",
            "only showing top 10 rows\n",
            "\n"
          ],
          "name": "stdout"
        }
      ]
    },
    {
      "cell_type": "code",
      "metadata": {
        "id": "YOlkEU0vcygq",
        "colab_type": "code",
        "colab": {
          "base_uri": "https://localhost:8080/",
          "height": 323
        },
        "outputId": "b467bbe0-f8cf-41c8-fb55-65ae8e99cdd1"
      },
      "source": [
        "#Loading artist_alias_data\n",
        "customSchemaArtistAlias = StructType([ \\\n",
        "    StructField(\"MisspelledArtistID\", LongType(), True), \\\n",
        "    StructField(\"StandardArtistID\", LongType(), True)])\n",
        "\n",
        "artistAliasDf = sqlContext.read \\\n",
        "    .format('com.databricks.spark.csv') \\\n",
        "    .options(header='false', delimiter='\\t', mode='DROPMALFORMED')\\\n",
        "    .load(\"artist_alias.txt\", schema = customSchemaArtistAlias ) \\\n",
        "    .cache()\n",
        "\n",
        "print('10 samples of mispelled artists')\n",
        "artistAliasDf.show(10)"
      ],
      "execution_count": 10,
      "outputs": [
        {
          "output_type": "stream",
          "text": [
            "10 samples of mispelled artists\n",
            "+------------------+----------------+\n",
            "|MisspelledArtistID|StandardArtistID|\n",
            "+------------------+----------------+\n",
            "|           1092764|         1000311|\n",
            "|           1095122|         1000557|\n",
            "|           6708070|         1007267|\n",
            "|          10088054|         1042317|\n",
            "|           1195917|         1042317|\n",
            "|           1112006|         1000557|\n",
            "|           1187350|         1294511|\n",
            "|           1116694|         1327092|\n",
            "|           6793225|         1042317|\n",
            "|           1079959|         1000557|\n",
            "+------------------+----------------+\n",
            "only showing top 10 rows\n",
            "\n"
          ],
          "name": "stdout"
        }
      ]
    },
    {
      "cell_type": "code",
      "metadata": {
        "id": "hMCd78Azf8hR",
        "colab_type": "code",
        "colab": {}
      },
      "source": [
        "# Create alias dictionary\n",
        "artistAlias = artistAliasDf.rdd.map(lambda row: ( row[0] , row[1])).collectAsMap()"
      ],
      "execution_count": 11,
      "outputs": []
    },
    {
      "cell_type": "code",
      "metadata": {
        "id": "ehuuEqSdhj_4",
        "colab_type": "code",
        "colab": {}
      },
      "source": [
        "# Improve of the dictionary\n",
        "for k in artistAlias.keys():\n",
        "    v = artistAlias[k]\n",
        "    old_v = v\n",
        "\n",
        "    while v in artistAlias.keys():\n",
        "        # the standard ID is not an entry in the dictionary anymore\n",
        "        v = artistAlias[v]\n",
        "        if(v == old_v):\n",
        "            # avoid the infinite loop\n",
        "            break\n",
        "        old_v = v\n",
        "    # remap the alias value\n",
        "    artistAlias[k] = v"
      ],
      "execution_count": 12,
      "outputs": []
    },
    {
      "cell_type": "code",
      "metadata": {
        "id": "Cp2l2QdAivTp",
        "colab_type": "code",
        "colab": {
          "base_uri": "https://localhost:8080/",
          "height": 305
        },
        "outputId": "cb802cf4-b3a8-4b6a-a1f8-6f52aa986bc2"
      },
      "source": [
        "bArtistAlias = sc.broadcast(artistAlias)\n",
        "\n",
        "def replaceMispelledIds(fields):\n",
        "    finalId = bArtistAlias.value.get(fields[1], fields[1]) \n",
        "    return (fields[0], finalId, fields[2])\n",
        "\n",
        "\n",
        "newUserArtistDf = sqlContext.createDataFrame(\n",
        "    userArtistDf.rdd.map(replaceMispelledIds), \n",
        "    userArtistDataSchema)\n",
        "\n",
        "newUserArtistDf.show(10)"
      ],
      "execution_count": 13,
      "outputs": [
        {
          "output_type": "stream",
          "text": [
            "+-------+--------+---------+\n",
            "| userId|artistId|playCount|\n",
            "+-------+--------+---------+\n",
            "|1000002|       1|       55|\n",
            "|1000002| 1000006|       33|\n",
            "|1000002| 1000007|        8|\n",
            "|1000002| 1000009|      144|\n",
            "|1000002| 1000010|      314|\n",
            "|1000002| 1000013|        8|\n",
            "|1000002| 1000014|       42|\n",
            "|1000002| 1000017|       69|\n",
            "|1000002| 1000024|      329|\n",
            "|1000002| 1000025|        1|\n",
            "+-------+--------+---------+\n",
            "only showing top 10 rows\n",
            "\n"
          ],
          "name": "stdout"
        }
      ]
    },
    {
      "cell_type": "code",
      "metadata": {
        "id": "Mn8xg1HAivyr",
        "colab_type": "code",
        "colab": {
          "base_uri": "https://localhost:8080/",
          "height": 35
        },
        "outputId": "8c25db3b-919a-44d0-b770-c7b7245a29a5"
      },
      "source": [
        "uniqueArtists = newUserArtistDf.select(\"artistId\").distinct().count()\n",
        "print(\"Total number of artists: \", uniqueArtists)"
      ],
      "execution_count": 14,
      "outputs": [
        {
          "output_type": "stream",
          "text": [
            "Total number of artists:  127090\n"
          ],
          "name": "stdout"
        }
      ]
    },
    {
      "cell_type": "markdown",
      "metadata": {
        "id": "L91USn4Ip-Hr",
        "colab_type": "text"
      },
      "source": [
        "# **Collaborative Recommendation**"
      ]
    },
    {
      "cell_type": "code",
      "metadata": {
        "id": "97BZ7N7XNy9R",
        "colab_type": "code",
        "colab": {}
      },
      "source": [
        "rawArtistData = sc.textFile(\"artist_data.txt\")\n",
        "\n",
        "def xtractFields(s):\n",
        "    line = re.split(\"\\s|\\t\",s,1)\n",
        "    if (len(line) > 1):\n",
        "        try:\n",
        "            return (int(line[0]), str(line[1].strip()))\n",
        "        except ValueError:\n",
        "            return (-1,\"\")\n",
        "    else: \n",
        "        return (-1,\"\")\n",
        "\n",
        "artistByID = rawArtistData.map(xtractFields).filter(lambda x: x[0] > 0)"
      ],
      "execution_count": 15,
      "outputs": []
    },
    {
      "cell_type": "code",
      "metadata": {
        "id": "zots2TGgivvi",
        "colab_type": "code",
        "colab": {
          "base_uri": "https://localhost:8080/",
          "height": 197
        },
        "outputId": "b919c770-4239-4259-b7a5-74a6e2d06eca"
      },
      "source": [
        "rawUserArtistData = sc.textFile(\"user_artist_data.txt\")\n",
        "\n",
        "def disambiguate(line):\n",
        "    [userId, artistId, count] = line.split(' ')\n",
        "    finalArtistId = bArtistAlias.value.get(artistId, artistId)\n",
        "    # we recontruct the triple\n",
        "    return (userId, finalArtistId, count)\n",
        "\n",
        "\n",
        "userArtistDataRDD = rawUserArtistData.map(disambiguate)\n",
        "userArtistDataRDD.take(10)"
      ],
      "execution_count": 16,
      "outputs": [
        {
          "output_type": "execute_result",
          "data": {
            "text/plain": [
              "[('1000002', '1', '55'),\n",
              " ('1000002', '1000006', '33'),\n",
              " ('1000002', '1000007', '8'),\n",
              " ('1000002', '1000009', '144'),\n",
              " ('1000002', '1000010', '314'),\n",
              " ('1000002', '1000013', '8'),\n",
              " ('1000002', '1000014', '42'),\n",
              " ('1000002', '1000017', '69'),\n",
              " ('1000002', '1000024', '329'),\n",
              " ('1000002', '1000025', '1')]"
            ]
          },
          "metadata": {
            "tags": []
          },
          "execution_count": 16
        }
      ]
    },
    {
      "cell_type": "code",
      "metadata": {
        "id": "-HjHNAtSuvU3",
        "colab_type": "code",
        "colab": {}
      },
      "source": [
        "allData = userArtistDataRDD.map(lambda x : ((x[0],x[1]),x[2]) ) \\\n",
        "            .reduceByKey(lambda x,y : x+y)\\\n",
        "            .map(lambda r: Rating(r[0][0],r[0][1],r[1])) \\\n",
        "            .repartition(4).cache()"
      ],
      "execution_count": 17,
      "outputs": []
    },
    {
      "cell_type": "code",
      "metadata": {
        "id": "Oyfci4-7yLGm",
        "colab_type": "code",
        "colab": {
          "base_uri": "https://localhost:8080/",
          "height": 35
        },
        "outputId": "893ec276-afd5-45b4-fc06-40e307e058f8"
      },
      "source": [
        "allData.toDF().columns"
      ],
      "execution_count": 22,
      "outputs": [
        {
          "output_type": "execute_result",
          "data": {
            "text/plain": [
              "['user', 'product', 'rating']"
            ]
          },
          "metadata": {
            "tags": []
          },
          "execution_count": 22
        }
      ]
    },
    {
      "cell_type": "code",
      "metadata": {
        "id": "37iHAV0FHwaY",
        "colab_type": "code",
        "colab": {
          "base_uri": "https://localhost:8080/",
          "height": 35
        },
        "outputId": "84de2083-384e-4559-ab29-9add1df12a6c"
      },
      "source": [
        "train, test = allData.randomSplit([0.8,0.2])\n",
        "train.cache()\n",
        "test.cache()"
      ],
      "execution_count": 23,
      "outputs": [
        {
          "output_type": "execute_result",
          "data": {
            "text/plain": [
              "PythonRDD[110] at RDD at PythonRDD.scala:53"
            ]
          },
          "metadata": {
            "tags": []
          },
          "execution_count": 23
        }
      ]
    },
    {
      "cell_type": "code",
      "metadata": {
        "id": "gESWgvKvAB2F",
        "colab_type": "code",
        "colab": {}
      },
      "source": [
        "# Get all unique artistId, and broadcast them\n",
        "allItemIDs = np.array(allData.map(lambda x: x[1]).distinct().collect())\n",
        "bAllItemIDs = sc.broadcast(allItemIDs)"
      ],
      "execution_count": 24,
      "outputs": []
    },
    {
      "cell_type": "code",
      "metadata": {
        "id": "WYWygVtwACNi",
        "colab_type": "code",
        "colab": {}
      },
      "source": [
        "from random import randint\n",
        "\n",
        "# Depend on the number of item in userIDAndPosItemIDs,\n",
        "# create a set of \"negative\" products for each user. These are randomly chosen\n",
        "# from among all of the other items, excluding those that are \"positive\" for the user.\n",
        "# NOTE 1: mapPartitions operates on many (user,positive-items) pairs at once\n",
        "# NOTE 2: flatMap breaks the collections above down into one big set of tuples\n",
        "def extractNegative(userIDAndPosItemIDs):\n",
        "    def pickEnoughNegatives(line):\n",
        "        userID = line[0]\n",
        "        posItemIDSet = set(line[1])\n",
        "        #posItemIDSet = line[1]\n",
        "        negative = []\n",
        "        allItemIDs = bAllItemIDs.value\n",
        "        # Keep about as many negative examples per user as positive. Duplicates are OK.\n",
        "        i = 0\n",
        "        while (i < len(allItemIDs) and len(negative) < len(posItemIDSet)):\n",
        "            itemID = allItemIDs[randint(0,len(allItemIDs)-1)]\n",
        "            if itemID not in posItemIDSet:\n",
        "                negative.append(itemID)\n",
        "            i += 1\n",
        "        \n",
        "        # Result is a collection of (user,negative-item) tuples\n",
        "        return map(lambda itemID: (userID, itemID), negative)\n",
        "\n",
        "    # Init an RNG and the item IDs set once for partition\n",
        "    # allItemIDs = bAllItemIDs.value\n",
        "    return map(pickEnoughNegatives, userIDAndPosItemIDs)\n",
        "\n",
        "def ratioOfCorrectRanks(positiveRatings, negativeRatings):\n",
        "    \n",
        "    # find number elements in arr that has index >= start and has value smaller than x\n",
        "    # arr is a sorted array\n",
        "    def findNumElementsSmallerThan(arr, x, start=0):\n",
        "        left = start\n",
        "        right = len(arr) -1\n",
        "        # if x is bigger than the biggest element in arr\n",
        "        if start > right or x > arr[right]:\n",
        "            return right + 1\n",
        "        mid = -1\n",
        "        while left <= right:\n",
        "            mid = (left + right) // 2\n",
        "            if arr[mid] < x:\n",
        "                left = mid + 1\n",
        "            elif arr[mid] > x:\n",
        "                right = mid - 1\n",
        "            else:\n",
        "                while mid-1 >= start and arr[mid-1] == x:\n",
        "                    mid -= 1\n",
        "                return mid\n",
        "        return mid if arr[mid] > x else mid + 1\n",
        "    \n",
        "    ## AUC may be viewed as the probability that a random positive item scores\n",
        "    ## higher than a random negative one. Here the proportion of all positive-negative\n",
        "    ## pairs that are correctly ranked is computed. The result is equal to the AUC metric.\n",
        "    correct = 0 ## L\n",
        "    total = 0 ## L\n",
        "    \n",
        "    # sorting positiveRatings array needs more cost\n",
        "    #positiveRatings = np.array(map(lambda x: x.rating, positiveRatings))\n",
        "\n",
        "    negativeRatings = list(map(lambda x:x.rating, negativeRatings))\n",
        "    \n",
        "    #np.sort(positiveRatings)\n",
        "    negativeRatings.sort()# = np.sort(negativeRatings)\n",
        "    total = len(positiveRatings)*len(negativeRatings)\n",
        "    \n",
        "    for positive in positiveRatings:\n",
        "        # Count the correctly-ranked pairs\n",
        "        correct += findNumElementsSmallerThan(negativeRatings, positive.rating)\n",
        "        \n",
        "    ## Return AUC: fraction of pairs ranked correctly\n",
        "    return float(correct) / total\n",
        "\n",
        "def calculateAUC(positiveData, bAllItemIDs, predictFunction):\n",
        "    # Take held-out data as the \"positive\", and map to tuples\n",
        "    positiveUserProducts = positiveData.map(lambda r: (r[0], r[1]))\n",
        "    # Make predictions for each of them, including a numeric score, and gather by user\n",
        "    positivePredictions = predictFunction(positiveUserProducts).groupBy(lambda r: r.user)\n",
        "    \n",
        "    # Create a set of \"negative\" products for each user. These are randomly chosen \n",
        "    # from among all of the other items, excluding those that are \"positive\" for the user. \n",
        "    negativeUserProducts = positiveUserProducts.groupByKey().mapPartitions(extractNegative).flatMap(lambda x: x)\n",
        "    # Make predictions on the rest\n",
        "    negativePredictions = predictFunction(negativeUserProducts).groupBy(lambda r: r.user)\n",
        "    \n",
        "    return (\n",
        "            positivePredictions.join(negativePredictions)\n",
        "                .values()\n",
        "                .map(\n",
        "                    lambda positive_negativeRatings: ratioOfCorrectRanks(positive_negativeRatings[0], positive_negativeRatings[1])\n",
        "                )\n",
        "                .mean()\n",
        "            )"
      ],
      "execution_count": 25,
      "outputs": []
    },
    {
      "cell_type": "code",
      "metadata": {
        "id": "USG9coW9ACGq",
        "colab_type": "code",
        "colab": {
          "base_uri": "https://localhost:8080/",
          "height": 161
        },
        "outputId": "93adaaf4-5b2b-4bd9-a234-0f2b9cae04bd"
      },
      "source": [
        "evaluations = []\n",
        "\n",
        "for rank in [10, 50]:\n",
        "    for lambda_ in [1.0, 0.0001]:\n",
        "        for alpha in [1.0, 40.0]:\n",
        "            print(\"Train model with rank=%d lambda_=%f alpha=%f\" % (rank, lambda_, alpha))\n",
        "            # with each combination of params, we should run multiple times and get avg\n",
        "            # for simple, we only run one time.\n",
        "            model = ALS.trainImplicit(train, rank=rank, iterations =5 , lambda_=lambda_, alpha=alpha )\n",
        "\n",
        "            auc = calculateAUC( test , bAllItemIDs, model.predictAll)\n",
        "\n",
        "            evaluations.append(((rank, lambda_, alpha), auc))\n",
        "\n",
        "            model.userFeatures().unpersist()\n",
        "            \n",
        "            model.productFeatures().unpersist()"
      ],
      "execution_count": 36,
      "outputs": [
        {
          "output_type": "stream",
          "text": [
            "Train model with rank=10 lambda_=1.000000 alpha=1.000000\n",
            "Train model with rank=10 lambda_=1.000000 alpha=40.000000\n",
            "Train model with rank=10 lambda_=0.000100 alpha=1.000000\n",
            "Train model with rank=10 lambda_=0.000100 alpha=40.000000\n",
            "Train model with rank=50 lambda_=1.000000 alpha=1.000000\n",
            "Train model with rank=50 lambda_=1.000000 alpha=40.000000\n",
            "Train model with rank=50 lambda_=0.000100 alpha=1.000000\n",
            "Train model with rank=50 lambda_=0.000100 alpha=40.000000\n"
          ],
          "name": "stdout"
        }
      ]
    },
    {
      "cell_type": "code",
      "metadata": {
        "id": "YpmM1SxAABok",
        "colab_type": "code",
        "colab": {
          "base_uri": "https://localhost:8080/",
          "height": 197
        },
        "outputId": "03bb1b92-c9f1-4f67-82c2-e8bcfc2be41f"
      },
      "source": [
        "evaluations.sort(key = lambda x:x[1] , reverse = True)\n",
        "\n",
        "evalDataFrame = pd.DataFrame(data=evaluations)\n",
        "evalDataFrame.columns = ['Parameters', 'AUC']\n",
        "print(evalDataFrame)\n",
        "\n",
        "train.unpersist()\n",
        "test.unpersist()"
      ],
      "execution_count": 37,
      "outputs": [
        {
          "output_type": "stream",
          "text": [
            "           Parameters       AUC\n",
            "0     (10, 1.0, 40.0)  0.938372\n",
            "1      (10, 1.0, 1.0)  0.934456\n",
            "2  (10, 0.0001, 40.0)  0.933470\n",
            "3      (50, 1.0, 1.0)  0.932215\n",
            "4   (10, 0.0001, 1.0)  0.930334\n",
            "5     (50, 1.0, 40.0)  0.928285\n",
            "6  (50, 0.0001, 40.0)  0.912797\n",
            "7   (50, 0.0001, 1.0)  0.904820\n"
          ],
          "name": "stdout"
        },
        {
          "output_type": "execute_result",
          "data": {
            "text/plain": [
              "PythonRDD[110] at RDD at PythonRDD.scala:53"
            ]
          },
          "metadata": {
            "tags": []
          },
          "execution_count": 37
        }
      ]
    },
    {
      "cell_type": "code",
      "metadata": {
        "id": "loaSBF67OQvy",
        "colab_type": "code",
        "colab": {}
      },
      "source": [
        "def artistNames(line):\n",
        "#     [artistID, name]\n",
        "    if (line[0] in recArtist ): #look for the recomended artist IDs in artistByID\n",
        "    \n",
        "        return True\n",
        "    else:\n",
        "        return False"
      ],
      "execution_count": 39,
      "outputs": []
    },
    {
      "cell_type": "code",
      "metadata": {
        "id": "IBHoAS7_IF_p",
        "colab_type": "code",
        "colab": {
          "base_uri": "https://localhost:8080/",
          "height": 35
        },
        "outputId": "74c13cd6-f16f-4e25-bc8a-b9d848a9e137"
      },
      "source": [
        "model = ALS.trainImplicit(train, rank= evaluations[0][0][0], iterations =5 , lambda_= evaluations[0][0][1], alpha= evaluations[0][0][2] )\n",
        "allData.unpersist()\n",
        "\n",
        "userID = 1000002\n",
        "recommendations = model.recommendProducts(userID, 5)\n",
        "\n",
        "recArtist = set(map(lambda x: x.product, recommendations) )\n",
        "\n",
        "recList = artistByID.filter(artistNames).values().collect()\n",
        "print(recList)\n",
        "\n",
        "unpersist(model)"
      ],
      "execution_count": 40,
      "outputs": [
        {
          "output_type": "stream",
          "text": [
            "['Every Little Thing', '松浦亜弥', 'Aus-Rotten', 'sonar', 'Aikawa Nanase']\n"
          ],
          "name": "stdout"
        }
      ]
    },
    {
      "cell_type": "code",
      "metadata": {
        "id": "7WzlPev0NG7b",
        "colab_type": "code",
        "colab": {}
      },
      "source": [
        ""
      ],
      "execution_count": null,
      "outputs": []
    }
  ]
}